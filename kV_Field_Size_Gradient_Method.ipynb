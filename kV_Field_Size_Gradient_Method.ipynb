{
  "nbformat": 4,
  "nbformat_minor": 0,
  "metadata": {
    "colab": {
      "provenance": [],
      "collapsed_sections": []
    },
    "kernelspec": {
      "name": "python3",
      "display_name": "Python 3"
    },
    "language_info": {
      "name": "python"
    }
  },
  "cells": [
    {
      "cell_type": "markdown",
      "source": [
        "**kV Field Size - Gradient Method**\n",
        "\n",
        "The following script uses gradient-based edge detection to find the kV Field size. \n",
        "\n",
        "I will first input the data from google drive, follow by applying a Gaussian blur to reduce the noise in the image.\n",
        "\n",
        "(Authors: Alex Grimwood & John Wong)"
      ],
      "metadata": {
        "id": "xWQq6DBki4AM"
      }
    },
    {
      "cell_type": "code",
      "source": [
        "###################################\n",
        "# import all the modules you need #\n",
        "###################################\n",
        "import numpy as np\n",
        "import cv2\n",
        "import matplotlib.pyplot as plt\n",
        "import glob\n",
        "import os\n",
        "from google.colab import drive\n",
        "drive.mount('/content/drive/')\n",
        "\n",
        "#####################\n",
        "# Inputing the data #\n",
        "#####################\n",
        "path = '/content/drive/My Drive/kV Field Size/*.bmp'\n",
        "\n",
        "img = [] # raw image array\n",
        "name = [] # labels for the image\n",
        "\n",
        "# find all files and load them into img using a for loop\n",
        "for fname in glob.glob(path):\n",
        "    # labeling files\n",
        "    path,f = os.path.split(fname)\n",
        "    name.append(f)\n",
        "    # reading files\n",
        "    img.append(cv2.imread(fname, cv2.IMREAD_GRAYSCALE))\n",
        "# convert the list into an array\n",
        "img = np.array(img, dtype='float32')\n",
        "\n",
        "#################\n",
        "# Gaussian blur #\n",
        "#################\n",
        "# Applying Gaussian blur to all image\n",
        "blur_img = [] # create an empty list\n",
        "for i in range(img.shape[0]): # lopo through images\n",
        "    blur_img.append(cv2.GaussianBlur(img[i,:,:],(21,21),0)) # blur with a 21x21 pixel kernel\n",
        "# convert the list into an array\n",
        "blur_img = np.array(blur_img)"
      ],
      "metadata": {
        "id": "nrUGUf9ijO9u"
      },
      "execution_count": null,
      "outputs": []
    },
    {
      "cell_type": "markdown",
      "source": [
        "This method will attempt to find the kV Field size by detecting field edges from the pixel intensity gradient.\n",
        "\n",
        "The function below will generate gradient images. "
      ],
      "metadata": {
        "id": "yku8mm0FyNuH"
      }
    },
    {
      "cell_type": "code",
      "source": [
        "def gradient_images(blur_img, kernel_size):\n",
        "    \"\"\" \n",
        "    This function will take a grayscale image and output arrays of the pixel\n",
        "    intensity first and second derivatives.\n",
        "\n",
        "    input:\n",
        "        blur_img:     input image, where image must be 2D numpy array\n",
        "\n",
        "        kernel_size:  size of kernel used to calculate image gradient\n",
        "\n",
        "\n",
        "    output: \n",
        "        dx:         horizontal gradient array\n",
        "\n",
        "        dy:         vertical gradient array\n",
        "\n",
        "        grad_img:   magnitude gradient array\n",
        "\n",
        "        ddx:        horizontal second derivative array (gradient of gradient)\n",
        "\n",
        "        ddy:        vertical second derivative arrayd \n",
        "\n",
        "        dgrad_img:  magnitude of second derivative array               \n",
        "    \"\"\"\n",
        "\n",
        "    step = kernel_size//2\n",
        "    # array subtraction for first differential\n",
        "    dy = np.zeros(blur_img.shape)\n",
        "    dy[:,step:-step,:] = blur_img[:,kernel_size:,:] - blur_img[:,:-kernel_size,:]\n",
        "    dx = np.zeros(blur_img.shape)\n",
        "    dx[:,:,step:-step] = blur_img[:,:,kernel_size:] - blur_img[:,:,:-kernel_size]\n",
        "    grad_img = np.sqrt(dx**2+dy**2) # calculate magnitude of gradients\n",
        "    \n",
        "    # array subtraction for second differential\n",
        "    ddy = np.zeros(blur_img.shape)\n",
        "    ddy[:,step:-step,:] = dy[:,kernel_size:,:] - dy[:,:-kernel_size,:]\n",
        "    ddx = np.zeros(blur_img.shape)\n",
        "    ddx[:,:,step:-step] = dx[:,:,kernel_size:] - dx[:,:,:-kernel_size]\n",
        "    dgrad_img = np.sqrt(ddx**2+ddy**2) # calculate magnitude of gradients\n",
        "\n",
        "    return dx, dy, grad_img, ddx, ddy, dgrad_img"
      ],
      "metadata": {
        "id": "gYxx2KIrwaNV"
      },
      "execution_count": null,
      "outputs": []
    },
    {
      "cell_type": "markdown",
      "source": [
        "The code below was finds the isocentre of the kV field from 4 BBs placed 10 cm from the laser isocentre "
      ],
      "metadata": {
        "id": "wH5nNwru7hXA"
      }
    },
    {
      "cell_type": "code",
      "source": [
        "# average all images together and then extract profiles across small BBs \n",
        "avg_img = np.mean(img,0)\n",
        "h_profile = np.mean(avg_img[603-4:603+4,:],0)\n",
        "v_profile = np.mean(avg_img[:,799-4:799+4],1)\n",
        "\n",
        "# manually find minima indices\n",
        "a_idx = np.argmin(h_profile[400:500])+400\n",
        "b_idx = np.argmin(h_profile[1100:1200])+1100\n",
        "g_idx = np.argmin(v_profile[220:300])+220\n",
        "t_idx = np.argmin(v_profile[900:995])+900\n",
        "\n",
        "# calculate pixel size in mm\n",
        "px_x = 200/(b_idx-a_idx)\n",
        "px_y = 200/(t_idx-g_idx)\n",
        "p2mm = (px_x+px_y)/2\n",
        "\n",
        "# calculate laser centre\n",
        "laser_isopx = np.array((a_idx + ((b_idx-a_idx)/2), g_idx + ((t_idx-g_idx)/2)))\n",
        "laser_x, laser_y = laser_isopx"
      ],
      "metadata": {
        "id": "Ye3fqjCdxrtl"
      },
      "execution_count": null,
      "outputs": []
    },
    {
      "cell_type": "markdown",
      "source": [
        "The code below loops through all images, calculates their 2nd derivative and uses this information to estimate the mean location of all four kV field edges.  \n",
        "  \n",
        "Median intensity profiles of the original image are plotted with marked edge locations."
      ],
      "metadata": {
        "id": "HWLYAOW80uEO"
      }
    },
    {
      "cell_type": "code",
      "source": [
        "# median intensity profile datasets\n",
        "x_mip = []\n",
        "y_mip = []\n",
        "\n",
        "# field edge location datasets\n",
        "a_pk = []\n",
        "b_pk = []\n",
        "g_pk = []\n",
        "t_pk = []\n",
        "\n",
        "# Loop through all kV images\n",
        "kernel_size = 40\n",
        "for i in range(img.shape[0]):\n",
        "\n",
        "  # calculate 2nd derivative gradient images\n",
        "  _, _, _, ddx, ddy, _ = gradient_images(blur_img, kernel_size)\n",
        "\n",
        "  # manually subtract unwanted image features, i.e. BBs and noisy border\n",
        "  # null BB rows & cols\n",
        "  ddx[:,550:670,:] = 0#np.nan # horizontal null\n",
        "  ddx[:,:,750:870] = 0#np.nan # vertical null\n",
        "  ddy[:,550:670,:] = 0#np.nan # horizontal null\n",
        "  ddy[:,:,750:870] = 0#np.nan # vertical null\n",
        "  # null FoV rows & cols\n",
        "  ddx[:,:,:50] = 0#np.nan # horizontal null\n",
        "  ddx[:,:,-51:] = 0#np.nan # vertical null\n",
        "  ddx[:,:50,:] = 0#np.nan # horizontal null\n",
        "  ddx[:,-51:,:] = 0#np.nan # vertical null\n",
        "  ddy[:,:,:50] = 0#np.nan # horizontal null\n",
        "  ddy[:,:,-51:] = 0#np.nan # vertical null\n",
        "  ddy[:,:50,:] = 0#np.nan # horizontal null\n",
        "  ddy[:,-51:,:] = 0#np.nan # vertical null\n",
        "\n",
        "  # locate the minima in each quadrant\n",
        "  x_profile = np.median(ddx[i,...],axis=0)\n",
        "  y_profile = np.median(ddy[i,...],axis=-1)\n",
        "  a_pk.append(np.argmin(x_profile[:801]))\n",
        "  b_pk.append(np.argmin(x_profile[800:])+800)\n",
        "  g_pk.append(np.argmin(y_profile[:601]))\n",
        "  t_pk.append(np.argmin(y_profile[600:])+600)\n"
      ],
      "metadata": {
        "id": "M9jMEqb-0LlG"
      },
      "execution_count": null,
      "outputs": []
    },
    {
      "cell_type": "markdown",
      "source": [
        "Display the kV image(s) with overlaid field edges and and calculate field sizes in mm."
      ],
      "metadata": {
        "id": "zZpjVye08ItL"
      }
    },
    {
      "cell_type": "code",
      "source": [
        "# plot field edge locations on kV images\n",
        "for i in range(img.shape[0]):\n",
        "  # Calculating edge to isocentre size (mm)\n",
        "  A = (laser_x - a_pk[i]) * p2mm\n",
        "  B = (b_pk[i] - laser_x) * p2mm\n",
        "  G = (laser_y - g_pk[i]) * p2mm\n",
        "  T = (t_pk[i] - laser_y) * p2mm\n",
        "\n",
        "  # plot image\n",
        "  plt.imshow(blur_img[i,...], cmap='gray')\n",
        "  # plot field edges\n",
        "  plt.plot([a_pk[i],a_pk[i]], [0,1199], color='r', linestyle='dotted', label='A:{:.0f}mm'.format(A))\n",
        "  plt.plot([b_pk[i],b_pk[i]], [0,1199], color='m', linestyle='dotted', label='B:{:.0f}mm'.format(B))\n",
        "  plt.plot([0,1599], [g_pk[i],g_pk[i]], color='c', linestyle='dotted', label='G:{:.0f}mm'.format(G))\n",
        "  plt.plot([0,1599], [t_pk[i],t_pk[i]], color='b', linestyle='dotted', label='T:{:.0f}mm'.format(T))\n",
        "  # plot laser isocentre\n",
        "  plt.axvline(x = laser_x, color='g', linestyle='--')\n",
        "  plt.axhline(y = laser_y, color='g', linestyle='--')\n",
        "  plt.legend()\n",
        "  plt.show()"
      ],
      "metadata": {
        "id": "kVTQQ1vp0oWy"
      },
      "execution_count": null,
      "outputs": []
    }
  ]
}